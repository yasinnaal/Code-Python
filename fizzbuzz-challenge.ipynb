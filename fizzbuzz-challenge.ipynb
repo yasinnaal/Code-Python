{
 "cells": [
  {
   "cell_type": "code",
   "execution_count": 1,
   "id": "prerequisite-pressing",
   "metadata": {
    "_cell_guid": "b1076dfc-b9ad-4769-8c92-a6c4dae69d19",
    "_uuid": "8f2839f25d086af736a60e9eeb907d3b93b6e0e5",
    "execution": {
     "iopub.execute_input": "2021-07-07T23:11:23.254745Z",
     "iopub.status.busy": "2021-07-07T23:11:23.254136Z",
     "iopub.status.idle": "2021-07-07T23:11:23.257203Z",
     "shell.execute_reply": "2021-07-07T23:11:23.256423Z"
    },
    "papermill": {
     "duration": 0.014048,
     "end_time": "2021-07-07T23:11:23.257380",
     "exception": false,
     "start_time": "2021-07-07T23:11:23.243332",
     "status": "completed"
    },
    "tags": []
   },
   "outputs": [],
   "source": [
    "\n",
    "import numpy as np \n",
    "import pandas as pd \n",
    "import os\n",
    "for dirname, _, filenames in os.walk('/kaggle/input'):\n",
    "    for filename in filenames:\n",
    "        print(os.path.join(dirname, filename))"
   ]
  },
  {
   "cell_type": "markdown",
   "id": "proper-rebound",
   "metadata": {
    "papermill": {
     "duration": 0.0033,
     "end_time": "2021-07-07T23:11:23.265121",
     "exception": false,
     "start_time": "2021-07-07T23:11:23.261821",
     "status": "completed"
    },
    "tags": []
   },
   "source": [
    "# FizzBuzz Challenge "
   ]
  },
  {
   "cell_type": "markdown",
   "id": "dutch-pepper",
   "metadata": {
    "papermill": {
     "duration": 0.003149,
     "end_time": "2021-07-07T23:11:23.271764",
     "exception": false,
     "start_time": "2021-07-07T23:11:23.268615",
     "status": "completed"
    },
    "tags": []
   },
   "source": [
    "The \"Fizz Buzz\" Challenge is an interview question designed to help \n",
    "filter out a lot of programming job candidates.\n",
    "\n",
    "Write a program that prints the numbers from 1 to 100,\n",
    "- For multiples of three print “Fizz” instead of the number \n",
    "- For the multiples of five print “Buzz”. \n",
    "- For numbers which are multiples of both three and five print “FizzBuzz”.\""
   ]
  },
  {
   "cell_type": "code",
   "execution_count": 2,
   "id": "coordinate-rochester",
   "metadata": {
    "execution": {
     "iopub.execute_input": "2021-07-07T23:11:23.282071Z",
     "iopub.status.busy": "2021-07-07T23:11:23.281451Z",
     "iopub.status.idle": "2021-07-07T23:11:23.296315Z",
     "shell.execute_reply": "2021-07-07T23:11:23.295760Z"
    },
    "papermill": {
     "duration": 0.021382,
     "end_time": "2021-07-07T23:11:23.296471",
     "exception": false,
     "start_time": "2021-07-07T23:11:23.275089",
     "status": "completed"
    },
    "tags": []
   },
   "outputs": [
    {
     "name": "stdout",
     "output_type": "stream",
     "text": [
      "1\n",
      "2\n",
      "Fiz\n",
      "4\n",
      "Buzz\n",
      "Fiz\n",
      "7\n",
      "8\n",
      "Fiz\n",
      "Buzz\n",
      "11\n",
      "Fiz\n",
      "13\n",
      "14\n",
      "FizzBuzz\n",
      "16\n",
      "17\n",
      "Fiz\n",
      "19\n",
      "Buzz\n",
      "Fiz\n",
      "22\n",
      "23\n",
      "Fiz\n",
      "Buzz\n",
      "26\n",
      "Fiz\n",
      "28\n",
      "29\n",
      "FizzBuzz\n",
      "31\n",
      "32\n",
      "Fiz\n",
      "34\n",
      "Buzz\n",
      "Fiz\n",
      "37\n",
      "38\n",
      "Fiz\n",
      "Buzz\n",
      "41\n",
      "Fiz\n",
      "43\n",
      "44\n",
      "FizzBuzz\n",
      "46\n",
      "47\n",
      "Fiz\n",
      "49\n",
      "Buzz\n",
      "Fiz\n",
      "52\n",
      "53\n",
      "Fiz\n",
      "Buzz\n",
      "56\n",
      "Fiz\n",
      "58\n",
      "59\n",
      "FizzBuzz\n",
      "61\n",
      "62\n",
      "Fiz\n",
      "64\n",
      "Buzz\n",
      "Fiz\n",
      "67\n",
      "68\n",
      "Fiz\n",
      "Buzz\n",
      "71\n",
      "Fiz\n",
      "73\n",
      "74\n",
      "FizzBuzz\n",
      "76\n",
      "77\n",
      "Fiz\n",
      "79\n",
      "Buzz\n",
      "Fiz\n",
      "82\n",
      "83\n",
      "Fiz\n",
      "Buzz\n",
      "86\n",
      "Fiz\n",
      "88\n",
      "89\n",
      "FizzBuzz\n",
      "91\n",
      "92\n",
      "Fiz\n",
      "94\n",
      "Buzz\n",
      "Fiz\n",
      "97\n",
      "98\n",
      "Fiz\n",
      "Buzz\n"
     ]
    }
   ],
   "source": [
    "fizzbuzz = 1\n",
    "while fizzbuzz <= 100:\n",
    "  if fizzbuzz % 3 == 0 and fizzbuzz % 5 == 0:\n",
    "        print(\"FizzBuzz\")\n",
    "  elif fizzbuzz % 3 == 0:\n",
    "        print(\"Fiz\")\n",
    "  elif fizzbuzz % 5 == 0:\n",
    "        print(\"Buzz\")\n",
    "  else:\n",
    "        print(fizzbuzz)\n",
    "  fizzbuzz += 1"
   ]
  },
  {
   "cell_type": "markdown",
   "id": "pacific-singapore",
   "metadata": {
    "papermill": {
     "duration": 0.003799,
     "end_time": "2021-07-07T23:11:23.304898",
     "exception": false,
     "start_time": "2021-07-07T23:11:23.301099",
     "status": "completed"
    },
    "tags": []
   },
   "source": [
    "**Please consider upvoting if you found it useful**"
   ]
  }
 ],
 "metadata": {
  "kernelspec": {
   "display_name": "Python 3",
   "language": "python",
   "name": "python3"
  },
  "language_info": {
   "codemirror_mode": {
    "name": "ipython",
    "version": 3
   },
   "file_extension": ".py",
   "mimetype": "text/x-python",
   "name": "python",
   "nbconvert_exporter": "python",
   "pygments_lexer": "ipython3",
   "version": "3.7.9"
  },
  "papermill": {
   "default_parameters": {},
   "duration": 7.890889,
   "end_time": "2021-07-07T23:11:25.001237",
   "environment_variables": {},
   "exception": null,
   "input_path": "__notebook__.ipynb",
   "output_path": "__notebook__.ipynb",
   "parameters": {},
   "start_time": "2021-07-07T23:11:17.110348",
   "version": "2.3.2"
  }
 },
 "nbformat": 4,
 "nbformat_minor": 5
}
